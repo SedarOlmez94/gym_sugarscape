{
 "cells": [
  {
   "cell_type": "code",
   "execution_count": 1,
   "metadata": {},
   "outputs": [],
   "source": [
    "import gym"
   ]
  },
  {
   "cell_type": "code",
   "execution_count": 2,
   "metadata": {},
   "outputs": [],
   "source": [
    "import gym_sugarscape\n",
    "import random"
   ]
  },
  {
   "cell_type": "code",
   "execution_count": 3,
   "metadata": {},
   "outputs": [],
   "source": [
    "env = gym.make('sugarscape-v0')"
   ]
  },
  {
   "cell_type": "code",
   "execution_count": 4,
   "metadata": {},
   "outputs": [],
   "source": [
    "env.reset(10, 50)"
   ]
  },
  {
   "cell_type": "code",
   "execution_count": 5,
   "metadata": {},
   "outputs": [
    {
     "name": "stdout",
     "output_type": "stream",
     "text": [
      "11123022102130331303202031133321121320303001102020\n",
      "03013100212222032331220201021111332120030120021331\n",
      "11221003310113123323001020330132202032133120333111\n",
      "13111223331103131221020322223031223131310302102210\n",
      "13222121012312211020323122033121131221333333123023\n",
      "12203022110133021113311322131103310030220132300120\n",
      "03232203320033331131221010023103111002321212311101\n",
      "02110113300213231132131311310012310102312123113203\n",
      "10331312132330301232111323103330200201321333200013\n",
      "11003202302102002221112213022001200110230213003123\n",
      "13022210001031112033210200121011302131101312110230\n",
      "11100230213230132233012331320310323212\u001b[1mX\u001b[0m03231223100\n",
      "23320320130002211230323320122012130210313300330111\n",
      "03221233310100130332232303321220332330323223221223\n",
      "02122123231221030023131312231002133302111013101233\n",
      "00132000001103211120001132322110313330033203113030\n",
      "22113330122011322331130033213210021322000122100023\n",
      "33110320203330321132203311122112232312003220312022\n",
      "22103210312213302233012121310303112013330221233003\n",
      "30303103312130000331311003022313122303232110103032\n",
      "02020210001211313333132032220032113111\u001b[1mX\u001b[0m30103101011\n",
      "330120130101102213013211022310211222100132012\u001b[1mX\u001b[0m1230\n",
      "2220\u001b[1mX\u001b[0m003112033023302203201113203111203201221332222\n",
      "01221330102222133220001320213130001323030322232231\n",
      "11031022031223201313200202232131312313002032330313\n",
      "10230033222333211311330302131120133031220113122313\n",
      "1210123333011\u001b[1mX\u001b[0m323012113011232220131130311321021112\n",
      "23102211221101223111233032233212032113131312222331\n",
      "2310220323\u001b[1mX\u001b[0m312310103211001300003130120102311120213\n",
      "33130200122021230012022113333120101203230223202010\n",
      "32031020011002200000012302323212113213002301232003\n",
      "22112110311012213203023221331222201220112300033212\n",
      "21330323112202121311202110100220203311200130021233\n",
      "30303012233321220233322013112201023022013103213310\n",
      "00131300012330002311130311303221010233202212312220\n",
      "23120202232222030111131002230222312300212123011320\n",
      "23132111322233302313223301110011132213100122302231\n",
      "20203330032220123331231213112212012131222112003213\n",
      "01010101210310203031231203221010300302223012001220\n",
      "02231030030120023321321230003\u001b[1mX\u001b[0m11101303211020231010\n",
      "32323301221301000012121212313121230201112221332102\n",
      "11\u001b[1mX\u001b[0m30223132203323012123130113201111131031013001012\n",
      "332220121320231331\u001b[1mX\u001b[0m2320211222011301120110323201200\n",
      "23232302030230332030131103003203210122222023012322\n",
      "10100321333101011000030123231022013222333133112032\n",
      "32202202031223020212120223030120321030230130311330\n",
      "21111033010303333110031321223221122333211233010302\n",
      "33221001220211120103102002313300032211302302322210\n",
      "12202232101211102232033122021012211201210331113020\n",
      "111212123211032122311321020333\u001b[1mX\u001b[0m2000020301112200212\n"
     ]
    }
   ],
   "source": [
    "print(env.render())"
   ]
  },
  {
   "cell_type": "code",
   "execution_count": 6,
   "metadata": {},
   "outputs": [
    {
     "name": "stdout",
     "output_type": "stream",
     "text": [
      "Action Space Discrete(5)\n",
      "State Space Discrete(2500)\n"
     ]
    }
   ],
   "source": [
    "print(\"Action Space {}\".format(env.action_space))\n",
    "print(\"State Space {}\".format(env.observation_space))"
   ]
  },
  {
   "cell_type": "code",
   "execution_count": 7,
   "metadata": {},
   "outputs": [
    {
     "name": "stdout",
     "output_type": "stream",
     "text": [
      "Timesteps taken: 600\n",
      "Penalties incurred: 549\n"
     ]
    }
   ],
   "source": [
    "epochs = 0\n",
    "penalties, reward = 0, 0\n",
    "\n",
    "frames = [] # for animation\n",
    "\n",
    "ACTIONS = ['N', 'E', 'S', 'W']\n",
    "\n",
    "#done = False\n",
    "\n",
    "for i in range(600):\n",
    "#while done != True:\n",
    "    random_actions = random.randrange(4)\n",
    "    #action = env.action_space.sample()\n",
    "    state, reward, done, info = env.step(ACTIONS[random_actions])\n",
    "    \n",
    "    if reward == -1:\n",
    "        penalties += 1\n",
    "    \n",
    "    # Put each rendered frame into dict for animation\n",
    "    frames.append({\n",
    "        'frame': env.render(),\n",
    "        'state': state,\n",
    "        'action': ACTIONS[random_actions],\n",
    "        'reward': reward\n",
    "        }\n",
    "    )\n",
    "\n",
    "    epochs += 1\n",
    "    \n",
    "    \n",
    "print(\"Timesteps taken: {}\".format(epochs))\n",
    "print(\"Penalties incurred: {}\".format(penalties))"
   ]
  },
  {
   "cell_type": "code",
   "execution_count": null,
   "metadata": {},
   "outputs": [
    {
     "name": "stdout",
     "output_type": "stream",
     "text": [
      "11121112211121112321112121112112111111111211211112\n",
      "11212112111121112221112222212211121222211212212122\n",
      "12121111211112123111221112121122221111223112321122\n",
      "11111221311111131111121121221131223131311122111211\n",
      "22212221112112222122312122122122132211323131211122\n",
      "11212122211223112222211222231121221121111212111112\n",
      "11122112221222311111211111211111112211311111221121\n",
      "12111111211223221132131311311112111121312111111111\n",
      "11331112112331321232111323111311211211321123211113\n",
      "11123211222212112112112213122111111111231213111121\n",
      "11122211112121122121212221122112212131122111211112\n",
      "11212231213221231223122331221111121111111131211111\n",
      "12111112211122111221223221212121121221112211111111\n",
      "12211212111122112222112222111212111112113121212211\n",
      "11212122121122132111111211211121231312111123111211\n",
      "21111111111113111121111131312111111231212111111111\n",
      "22112111112111322131112132213121121222112121111121\n",
      "22111122111211122111212311112111231211112211112122\n",
      "22121111112111312233112122311222112223322122122123\n",
      "11112111211212211212312222122113122211111111113111\n",
      "11121111111221311111111211111131112121111222111111\n",
      "12122111211112221222222122221121122211113111211211\n",
      "22211112112113122322121221122111121121211221112221\n",
      "21222121121211211112212312212111211221212122121212\n",
      "21121111231112211211221212212121312222121212211222\n",
      "11111111121123112312322322132121112212111112111111\n",
      "11111111111111211111111122112212121121211321122121\n",
      "21211212121111111211111111121121121211111122112121\n",
      "21111112222212312111122122312213121222112111122221\n",
      "21112111111111111111111211111121111121111211111111\n",
      "12212112111122112221211122211221121221121121111111\n",
      "11112111221112112211123211231212111111111111111112\n",
      "21212212221212111221221121121211121221121122121211\n",
      "22121111232212212211111111121112121221111111211122\n",
      "2111\u001b[1mX\u001b[0m111111112111111112112111112111221112212122221\n",
      "21111121221121111111111111111111111222121213211312\n",
      "21212122211213121111121121111121112111111222111121\n",
      "11111111111212112222121211112222111112112121111121\n",
      "11111111211122112132112112111111121111213112111211\n",
      "21221112111111111122321231111212111112112212111121\n",
      "11111221122211111212121211113111131211111221111211\n",
      "11212122111113121112112212112122121222111112212212\n",
      "11121111111111121112111111212121211122112211121212\n",
      "21111111111111322132132213211211212111122111211222\n",
      "11111121213112111111211123111221111212211212211111\n",
      "11111112111221121212121221132121112111121221111112\n",
      "11211112112222122111111222122211121122111122211112\n",
      "12221112121212112111112212223212121122312212\u001b[1mX\u001b[0m21212\n",
      "12111211111211212231222122121211221111211111111111\n",
      "12121112221113211232222122123112121122212122111121\n",
      "('State: ', 2050)\n",
      "('Action: ', 'N')\n",
      "('Reward: ', -1)\n"
     ]
    }
   ],
   "source": [
    "from IPython.display import clear_output\n",
    "from time import sleep\n",
    "\n",
    "def print_frames(frames):\n",
    "    for i, frame in enumerate(frames):\n",
    "        clear_output(wait=True)\n",
    "        print(frame['frame'])\n",
    "        print(\"State: \", frame['state'])\n",
    "        print(\"Action: \", frame['action'])\n",
    "        print(\"Reward: \", frame['reward'])\n",
    "        sleep(.1)\n",
    "        \n",
    "print_frames(frames)"
   ]
  },
  {
   "cell_type": "markdown",
   "metadata": {},
   "source": [
    "# Q-learning"
   ]
  },
  {
   "cell_type": "code",
   "execution_count": 8,
   "metadata": {},
   "outputs": [],
   "source": [
    "import numpy as np\n",
    "import gym\n",
    "import gym_sugarscape\n",
    "import random\n",
    "from IPython.display import clear_output"
   ]
  },
  {
   "cell_type": "code",
   "execution_count": 9,
   "metadata": {},
   "outputs": [],
   "source": [
    "env = gym.make('sugarscape-v0')\n",
    "env.reset(10, 50)\n",
    "q_table = np.zeros([env.observation_space.n, env.action_space.n])"
   ]
  },
  {
   "cell_type": "code",
   "execution_count": 10,
   "metadata": {},
   "outputs": [
    {
     "ename": "KeyError",
     "evalue": "6",
     "output_type": "error",
     "traceback": [
      "\u001b[0;31m---------------------------------------------------------------------------\u001b[0m",
      "\u001b[0;31mKeyError\u001b[0m                                  Traceback (most recent call last)",
      "\u001b[0;32m<ipython-input-10-3ffcf8210f1c>\u001b[0m in \u001b[0;36m<module>\u001b[0;34m()\u001b[0m\n\u001b[0;32m----> 1\u001b[0;31m \u001b[0mget_ipython\u001b[0m\u001b[0;34m(\u001b[0m\u001b[0;34m)\u001b[0m\u001b[0;34m.\u001b[0m\u001b[0mrun_cell_magic\u001b[0m\u001b[0;34m(\u001b[0m\u001b[0;34mu'time'\u001b[0m\u001b[0;34m,\u001b[0m \u001b[0;34mu''\u001b[0m\u001b[0;34m,\u001b[0m \u001b[0;34mu'\\n\"\"\"Training the agent\"\"\"\\nACTIONS = [\\'N\\', \\'E\\', \\'S\\', \\'W\\']\\n\\n\\n# Hyperparameters\\nalpha = 0.1\\ngamma = 0.6\\nepsilon = 0.1\\n\\n# For plotting metrics\\nall_epochs = []\\nall_penalties = []\\n\\n\\n#for i in range(1, 100):\\n    \\n\\n\\nfor j in range(100):\\n    state = env.get_state()\\n    epochs, penalties, reward, = 0, 0, 0\\n    done = False\\n    \\n    if random.uniform(0, 1) < epsilon:\\n        action = random.randrange(4)\\n    else:\\n         action = np.argmax(q_table[state])\\n    \\n    \\n    next_state, reward, done, info = env.step(ACTIONS[action])\\n    old_value = q_table[state, action]\\n    next_max = np.max(q_table[next_state])\\n\\n    new_value = (1 - alpha) * old_value + alpha * (reward + gamma * next_max)\\n    q_table[state, action] = new_value\\n\\n    if reward == -1:\\n        penalties += 1\\n\\n    state = next_state\\n    epochs += 1'\u001b[0m\u001b[0;34m)\u001b[0m\u001b[0;34m\u001b[0m\u001b[0m\n\u001b[0m",
      "\u001b[0;32m/miniconda2/lib/python2.7/site-packages/IPython/core/interactiveshell.pyc\u001b[0m in \u001b[0;36mrun_cell_magic\u001b[0;34m(self, magic_name, line, cell)\u001b[0m\n\u001b[1;32m   2115\u001b[0m             \u001b[0mmagic_arg_s\u001b[0m \u001b[0;34m=\u001b[0m \u001b[0mself\u001b[0m\u001b[0;34m.\u001b[0m\u001b[0mvar_expand\u001b[0m\u001b[0;34m(\u001b[0m\u001b[0mline\u001b[0m\u001b[0;34m,\u001b[0m \u001b[0mstack_depth\u001b[0m\u001b[0;34m)\u001b[0m\u001b[0;34m\u001b[0m\u001b[0m\n\u001b[1;32m   2116\u001b[0m             \u001b[0;32mwith\u001b[0m \u001b[0mself\u001b[0m\u001b[0;34m.\u001b[0m\u001b[0mbuiltin_trap\u001b[0m\u001b[0;34m:\u001b[0m\u001b[0;34m\u001b[0m\u001b[0m\n\u001b[0;32m-> 2117\u001b[0;31m                 \u001b[0mresult\u001b[0m \u001b[0;34m=\u001b[0m \u001b[0mfn\u001b[0m\u001b[0;34m(\u001b[0m\u001b[0mmagic_arg_s\u001b[0m\u001b[0;34m,\u001b[0m \u001b[0mcell\u001b[0m\u001b[0;34m)\u001b[0m\u001b[0;34m\u001b[0m\u001b[0m\n\u001b[0m\u001b[1;32m   2118\u001b[0m             \u001b[0;32mreturn\u001b[0m \u001b[0mresult\u001b[0m\u001b[0;34m\u001b[0m\u001b[0m\n\u001b[1;32m   2119\u001b[0m \u001b[0;34m\u001b[0m\u001b[0m\n",
      "\u001b[0;32m</miniconda2/lib/python2.7/site-packages/decorator.pyc:decorator-gen-60>\u001b[0m in \u001b[0;36mtime\u001b[0;34m(self, line, cell, local_ns)\u001b[0m\n",
      "\u001b[0;32m/miniconda2/lib/python2.7/site-packages/IPython/core/magic.pyc\u001b[0m in \u001b[0;36m<lambda>\u001b[0;34m(f, *a, **k)\u001b[0m\n\u001b[1;32m    186\u001b[0m     \u001b[0;31m# but it's overkill for just that one bit of state.\u001b[0m\u001b[0;34m\u001b[0m\u001b[0;34m\u001b[0m\u001b[0m\n\u001b[1;32m    187\u001b[0m     \u001b[0;32mdef\u001b[0m \u001b[0mmagic_deco\u001b[0m\u001b[0;34m(\u001b[0m\u001b[0marg\u001b[0m\u001b[0;34m)\u001b[0m\u001b[0;34m:\u001b[0m\u001b[0;34m\u001b[0m\u001b[0m\n\u001b[0;32m--> 188\u001b[0;31m         \u001b[0mcall\u001b[0m \u001b[0;34m=\u001b[0m \u001b[0;32mlambda\u001b[0m \u001b[0mf\u001b[0m\u001b[0;34m,\u001b[0m \u001b[0;34m*\u001b[0m\u001b[0ma\u001b[0m\u001b[0;34m,\u001b[0m \u001b[0;34m**\u001b[0m\u001b[0mk\u001b[0m\u001b[0;34m:\u001b[0m \u001b[0mf\u001b[0m\u001b[0;34m(\u001b[0m\u001b[0;34m*\u001b[0m\u001b[0ma\u001b[0m\u001b[0;34m,\u001b[0m \u001b[0;34m**\u001b[0m\u001b[0mk\u001b[0m\u001b[0;34m)\u001b[0m\u001b[0;34m\u001b[0m\u001b[0m\n\u001b[0m\u001b[1;32m    189\u001b[0m \u001b[0;34m\u001b[0m\u001b[0m\n\u001b[1;32m    190\u001b[0m         \u001b[0;32mif\u001b[0m \u001b[0mcallable\u001b[0m\u001b[0;34m(\u001b[0m\u001b[0marg\u001b[0m\u001b[0;34m)\u001b[0m\u001b[0;34m:\u001b[0m\u001b[0;34m\u001b[0m\u001b[0m\n",
      "\u001b[0;32m/miniconda2/lib/python2.7/site-packages/IPython/core/magics/execution.pyc\u001b[0m in \u001b[0;36mtime\u001b[0;34m(self, line, cell, local_ns)\u001b[0m\n\u001b[1;32m   1191\u001b[0m         \u001b[0;32melse\u001b[0m\u001b[0;34m:\u001b[0m\u001b[0;34m\u001b[0m\u001b[0m\n\u001b[1;32m   1192\u001b[0m             \u001b[0mst\u001b[0m \u001b[0;34m=\u001b[0m \u001b[0mclock2\u001b[0m\u001b[0;34m(\u001b[0m\u001b[0;34m)\u001b[0m\u001b[0;34m\u001b[0m\u001b[0m\n\u001b[0;32m-> 1193\u001b[0;31m             \u001b[0;32mexec\u001b[0m\u001b[0;34m(\u001b[0m\u001b[0mcode\u001b[0m\u001b[0;34m,\u001b[0m \u001b[0mglob\u001b[0m\u001b[0;34m,\u001b[0m \u001b[0mlocal_ns\u001b[0m\u001b[0;34m)\u001b[0m\u001b[0;34m\u001b[0m\u001b[0m\n\u001b[0m\u001b[1;32m   1194\u001b[0m             \u001b[0mend\u001b[0m \u001b[0;34m=\u001b[0m \u001b[0mclock2\u001b[0m\u001b[0;34m(\u001b[0m\u001b[0;34m)\u001b[0m\u001b[0;34m\u001b[0m\u001b[0m\n\u001b[1;32m   1195\u001b[0m             \u001b[0mout\u001b[0m \u001b[0;34m=\u001b[0m \u001b[0mNone\u001b[0m\u001b[0;34m\u001b[0m\u001b[0m\n",
      "\u001b[0;32m<timed exec>\u001b[0m in \u001b[0;36m<module>\u001b[0;34m()\u001b[0m\n",
      "\u001b[0;32m/Users/solmez/Documents/gym_sugarscape/gym-sugarscape/gym_sugarscape/envs/sugarscape_env.pyc\u001b[0m in \u001b[0;36mstep\u001b[0;34m(self, action)\u001b[0m\n\u001b[1;32m     73\u001b[0m                  \u001b[0muse\u001b[0m \u001b[0mthis\u001b[0m \u001b[0;32mfor\u001b[0m \u001b[0mlearning\u001b[0m\u001b[0;34m.\u001b[0m\u001b[0;34m\u001b[0m\u001b[0m\n\u001b[1;32m     74\u001b[0m         \"\"\"\n\u001b[0;32m---> 75\u001b[0;31m         \u001b[0mself\u001b[0m\u001b[0;34m.\u001b[0m\u001b[0m_take_action\u001b[0m\u001b[0;34m(\u001b[0m\u001b[0maction\u001b[0m\u001b[0;34m)\u001b[0m \u001b[0;31m# Perform one action (N, E, S or W)\u001b[0m\u001b[0;34m\u001b[0m\u001b[0m\n\u001b[0m\u001b[1;32m     76\u001b[0m         \u001b[0mself\u001b[0m\u001b[0;34m.\u001b[0m\u001b[0mcurrent_step\u001b[0m \u001b[0;34m+=\u001b[0m \u001b[0;36m1\u001b[0m\u001b[0;34m\u001b[0m\u001b[0m\n\u001b[1;32m     77\u001b[0m         \u001b[0;31m#self._agent_s_wealth() # Return agents sugar wealth and information\u001b[0m\u001b[0;34m\u001b[0m\u001b[0;34m\u001b[0m\u001b[0m\n",
      "\u001b[0;32m/Users/solmez/Documents/gym_sugarscape/gym-sugarscape/gym_sugarscape/envs/sugarscape_env.pyc\u001b[0m in \u001b[0;36m_take_action\u001b[0;34m(self, action)\u001b[0m\n\u001b[1;32m    117\u001b[0m                 \u001b[0;31m# FOR EACH CELL, CHECK IF AN AGENT OUT OF THE 250 IS STANDING IN THAT CELL.\u001b[0m\u001b[0;34m\u001b[0m\u001b[0;34m\u001b[0m\u001b[0m\n\u001b[1;32m    118\u001b[0m                 \u001b[0;32mif\u001b[0m \u001b[0magents_iteration\u001b[0m \u001b[0;34m<\u001b[0m \u001b[0mnumber_of_agents_in_list\u001b[0m\u001b[0;34m:\u001b[0m\u001b[0;34m\u001b[0m\u001b[0m\n\u001b[0;32m--> 119\u001b[0;31m                     \u001b[0;32mif\u001b[0m\u001b[0;34m(\u001b[0m\u001b[0mself\u001b[0m\u001b[0;34m.\u001b[0m\u001b[0menvironment\u001b[0m\u001b[0;34m[\u001b[0m\u001b[0mx\u001b[0m\u001b[0;34m,\u001b[0m \u001b[0my\u001b[0m\u001b[0;34m]\u001b[0m \u001b[0;34m==\u001b[0m \u001b[0;34m\"\\033[1mX\\033[0m\"\u001b[0m \u001b[0;32mand\u001b[0m \u001b[0mlist_of_agents_shuffled\u001b[0m\u001b[0;34m[\u001b[0m\u001b[0magents_iteration\u001b[0m\u001b[0;34m]\u001b[0m\u001b[0;34m.\u001b[0m\u001b[0mget_ID\u001b[0m\u001b[0;34m(\u001b[0m\u001b[0;34m)\u001b[0m \u001b[0;34m==\u001b[0m \u001b[0magents_iteration\u001b[0m\u001b[0;34m)\u001b[0m\u001b[0;34m:\u001b[0m\u001b[0;34m\u001b[0m\u001b[0m\n\u001b[0m\u001b[1;32m    120\u001b[0m \u001b[0;34m\u001b[0m\u001b[0m\n\u001b[1;32m    121\u001b[0m                         \u001b[0;31m#print(f\"agend ID: {list_of_agents_shuffled[agents_iteration].get_ID()} and iteration {agents_iteration}\")\u001b[0m\u001b[0;34m\u001b[0m\u001b[0;34m\u001b[0m\u001b[0m\n",
      "\u001b[0;31mKeyError\u001b[0m: 6"
     ]
    }
   ],
   "source": [
    "%%time\n",
    "\n",
    "\"\"\"Training the agent\"\"\"\n",
    "ACTIONS = ['N', 'E', 'S', 'W']\n",
    "\n",
    "\n",
    "# Hyperparameters\n",
    "alpha = 0.1\n",
    "gamma = 0.6\n",
    "epsilon = 0.1\n",
    "\n",
    "# For plotting metrics\n",
    "all_epochs = []\n",
    "all_penalties = []\n",
    "\n",
    "\n",
    "#for i in range(1, 100):\n",
    "    \n",
    "\n",
    "\n",
    "for j in range(100):\n",
    "    state = env.get_state()\n",
    "    epochs, penalties, reward, = 0, 0, 0\n",
    "    done = False\n",
    "    \n",
    "    if random.uniform(0, 1) < epsilon:\n",
    "        action = random.randrange(4)\n",
    "    else:\n",
    "         action = np.argmax(q_table[state])\n",
    "    \n",
    "    \n",
    "    next_state, reward, done, info = env.step(ACTIONS[action])\n",
    "    old_value = q_table[state, action]\n",
    "    next_max = np.max(q_table[next_state])\n",
    "\n",
    "    new_value = (1 - alpha) * old_value + alpha * (reward + gamma * next_max)\n",
    "    q_table[state, action] = new_value\n",
    "\n",
    "    if reward == -1:\n",
    "        penalties += 1\n",
    "\n",
    "    state = next_state\n",
    "    epochs += 1"
   ]
  },
  {
   "cell_type": "code",
   "execution_count": null,
   "metadata": {},
   "outputs": [],
   "source": []
  }
 ],
 "metadata": {
  "kernelspec": {
   "display_name": "Python 2",
   "language": "python",
   "name": "python2"
  },
  "toc": {
   "base_numbering": 1,
   "nav_menu": {},
   "number_sections": true,
   "sideBar": true,
   "skip_h1_title": false,
   "title_cell": "Table of Contents",
   "title_sidebar": "Contents",
   "toc_cell": false,
   "toc_position": {},
   "toc_section_display": true,
   "toc_window_display": false
  }
 },
 "nbformat": 4,
 "nbformat_minor": 2
}
