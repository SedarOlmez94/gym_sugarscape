{
 "cells": [
  {
   "cell_type": "code",
   "execution_count": 1,
   "metadata": {},
   "outputs": [],
   "source": [
    "import gym"
   ]
  },
  {
   "cell_type": "code",
   "execution_count": 2,
   "metadata": {},
   "outputs": [],
   "source": [
    "import gym_sugarscape\n",
    "import random"
   ]
  },
  {
   "cell_type": "code",
   "execution_count": 3,
   "metadata": {},
   "outputs": [],
   "source": [
    "env = gym.make('sugarscape-v0')"
   ]
  },
  {
   "cell_type": "code",
   "execution_count": 4,
   "metadata": {},
   "outputs": [],
   "source": [
    "env.reset(5, 50)"
   ]
  },
  {
   "cell_type": "code",
   "execution_count": 6,
   "metadata": {},
   "outputs": [
    {
     "name": "stdout",
     "output_type": "stream",
     "text": [
      "30310222010122032012111230221021303313032020311333\n",
      "2112132030300110202003013100212222\u001b[1mX\u001b[0m323312202010211\n",
      "1133212003\u001b[1mX\u001b[0m120021331112210033101131233230010203301\n",
      "32202032133120333111131112233311031312210203222230\n",
      "31223131310302102210132221210123122110203231220331\n",
      "21131221333333123023122030221101330211133113221311\n",
      "03310030220132300120032322033200333311312210100231\n",
      "03111002321212311101021101133002132311321313113100\n",
      "12310102312123113203103313121323303012321113231033\n",
      "30200201321333200013110032023021020022211122130220\n",
      "012001102302130031231302221\u001b[1mX\u001b[0m0010311120332102001210\n",
      "11302131101312110230111002302132301322330123313203\n",
      "10323212003231223100233203201300022112303233201220\n",
      "12130210313300330111032212333101001303322323033212\n",
      "20332330323223221223021221232312210300231313122310\n",
      "02133302111013101233001320000011032111200011323221\n",
      "10313330033203113030221133301220113223311300332132\n",
      "10021322000122100023331103202033303211322033111221\n",
      "12232312003220312022221032103122133022330121213103\n",
      "03112013330221233003303031033121300003313110030223\n",
      "13122303232110103032020202100012113133331320322200\n",
      "32113111030103101011330120130101102213013211022310\n",
      "2112221001320120123022200\u001b[1mX\u001b[0m031120330233022032011132\n",
      "03111203201221332222012213301022221332200013202131\n",
      "30001323030322232231110310220312232013132002022321\n",
      "31312313002032330313102300332223332113113303021311\n",
      "20133031220113122313121012333301103230121130112322\n",
      "20131130311321021112231022112211012231112330322332\n",
      "12032113131312222331231022032303123101032110013000\n",
      "03130120102311120213331302001220212300120221133331\n",
      "20101203230223202010320310200110022000000123023232\n",
      "12113213002301232003221121103110122132030232213312\n",
      "22201220112300033212213303231122021213112021101002\n",
      "20203311200130021233303030122333212202333220131122\n",
      "01023022013103213310001313000123300023111303113032\n",
      "21010233202212312220231202022322220301111310022302\n",
      "22312300212123011320231321113222333023132233011100\n",
      "11132213100122302231202033300322201233312312131122\n",
      "12012131222112003213010101012103102030312312032210\n",
      "10300302223012001220022310300301200233213212300030\n",
      "11101303211020231010323233\u001b[1mX\u001b[0m12213010000121212123131\n",
      "21230201112221332102110302231322033230121231301132\n",
      "01111131031013001012332220121320231331023202112220\n",
      "11301120110323201200232323020302303320301311030032\n",
      "03210122222023012322101003213331010110000301232310\n",
      "22013222333133112032322022020312230202121202230301\n",
      "20321030230130311330211110330103033331100313212232\n",
      "21122333211233010302332210012202111201031020023133\n",
      "00032211302302322210122022321012111022320331220210\n",
      "12211201210331113020111212123211032122311321020333\n"
     ]
    }
   ],
   "source": [
    "print(env.render())"
   ]
  },
  {
   "cell_type": "code",
   "execution_count": 7,
   "metadata": {},
   "outputs": [
    {
     "name": "stdout",
     "output_type": "stream",
     "text": [
      "Action Space Discrete(5)\n",
      "State Space Discrete(2500)\n"
     ]
    }
   ],
   "source": [
    "print(\"Action Space {}\".format(env.action_space))\n",
    "print(\"State Space {}\".format(env.observation_space))"
   ]
  },
  {
   "cell_type": "code",
   "execution_count": 8,
   "metadata": {},
   "outputs": [
    {
     "name": "stdout",
     "output_type": "stream",
     "text": [
      "AGENT DEAD!\n",
      "AGENT DEAD!\n",
      "AGENT DEAD!\n",
      "AGENT DEAD!\n",
      "AGENT DEAD!\n",
      "AGENT DEAD!\n",
      "AGENT DEAD!\n",
      "AGENT DEAD!\n"
     ]
    },
    {
     "ename": "KeyboardInterrupt",
     "evalue": "",
     "output_type": "error",
     "traceback": [
      "\u001b[0;31m---------------------------------------------------------------------------\u001b[0m",
      "\u001b[0;31mKeyboardInterrupt\u001b[0m                         Traceback (most recent call last)",
      "\u001b[0;32m<ipython-input-8-6a904cf0c5cf>\u001b[0m in \u001b[0;36m<module>\u001b[0;34m()\u001b[0m\n\u001b[1;32m      9\u001b[0m     \u001b[0mrandom_actions\u001b[0m \u001b[0;34m=\u001b[0m \u001b[0mrandom\u001b[0m\u001b[0;34m.\u001b[0m\u001b[0mrandrange\u001b[0m\u001b[0;34m(\u001b[0m\u001b[0;36m1\u001b[0m\u001b[0;34m,\u001b[0m \u001b[0;36m4\u001b[0m\u001b[0;34m)\u001b[0m\u001b[0;34m\u001b[0m\u001b[0m\n\u001b[1;32m     10\u001b[0m     \u001b[0;31m#action = env.action_space.sample()\u001b[0m\u001b[0;34m\u001b[0m\u001b[0;34m\u001b[0m\u001b[0m\n\u001b[0;32m---> 11\u001b[0;31m     \u001b[0mstate\u001b[0m\u001b[0;34m,\u001b[0m \u001b[0mreward\u001b[0m\u001b[0;34m,\u001b[0m \u001b[0mdone\u001b[0m\u001b[0;34m,\u001b[0m \u001b[0minfo\u001b[0m \u001b[0;34m=\u001b[0m \u001b[0menv\u001b[0m\u001b[0;34m.\u001b[0m\u001b[0mstep\u001b[0m\u001b[0;34m(\u001b[0m\u001b[0mACTIONS\u001b[0m\u001b[0;34m[\u001b[0m\u001b[0mrandom_actions\u001b[0m\u001b[0;34m]\u001b[0m\u001b[0;34m)\u001b[0m\u001b[0;34m\u001b[0m\u001b[0m\n\u001b[0m\u001b[1;32m     12\u001b[0m \u001b[0;34m\u001b[0m\u001b[0m\n\u001b[1;32m     13\u001b[0m     \u001b[0;32mif\u001b[0m \u001b[0mreward\u001b[0m \u001b[0;34m==\u001b[0m \u001b[0;34m-\u001b[0m\u001b[0;36m1\u001b[0m\u001b[0;34m:\u001b[0m\u001b[0;34m\u001b[0m\u001b[0m\n",
      "\u001b[0;32m/Users/solmez/Documents/gym_sugarscape/gym-sugarscape/gym_sugarscape/envs/sugarscape_env.py\u001b[0m in \u001b[0;36mstep\u001b[0;34m(self, action)\u001b[0m\n\u001b[1;32m     63\u001b[0m         \"\"\"\n\u001b[1;32m     64\u001b[0m \u001b[0;34m\u001b[0m\u001b[0m\n\u001b[0;32m---> 65\u001b[0;31m         \u001b[0mself\u001b[0m\u001b[0;34m.\u001b[0m\u001b[0m_take_action\u001b[0m\u001b[0;34m(\u001b[0m\u001b[0maction\u001b[0m\u001b[0;34m)\u001b[0m \u001b[0;31m# Perform one action (N, E, S or W)\u001b[0m\u001b[0;34m\u001b[0m\u001b[0m\n\u001b[0m\u001b[1;32m     66\u001b[0m         \u001b[0mself\u001b[0m\u001b[0;34m.\u001b[0m\u001b[0mcurrent_step\u001b[0m \u001b[0;34m+=\u001b[0m \u001b[0;36m1\u001b[0m \u001b[0;31m# Increment simulation step by 1\u001b[0m\u001b[0;34m\u001b[0m\u001b[0m\n\u001b[1;32m     67\u001b[0m         \u001b[0;31m#self._agent_s_wealth() # Return agents sugar wealth and information\u001b[0m\u001b[0;34m\u001b[0m\u001b[0;34m\u001b[0m\u001b[0m\n",
      "\u001b[0;32m/Users/solmez/Documents/gym_sugarscape/gym-sugarscape/gym_sugarscape/envs/sugarscape_env.py\u001b[0m in \u001b[0;36m_take_action\u001b[0;34m(self, action)\u001b[0m\n\u001b[1;32m     91\u001b[0m                 \u001b[0;32mif\u001b[0m \u001b[0magents_iteration\u001b[0m \u001b[0;34m<\u001b[0m \u001b[0mnumber_of_agents_in_list\u001b[0m\u001b[0;34m:\u001b[0m\u001b[0;34m\u001b[0m\u001b[0m\n\u001b[1;32m     92\u001b[0m \u001b[0;34m\u001b[0m\u001b[0m\n\u001b[0;32m---> 93\u001b[0;31m                     \u001b[0;32mif\u001b[0m\u001b[0;34m(\u001b[0m\u001b[0mself\u001b[0m\u001b[0;34m.\u001b[0m\u001b[0menvironment\u001b[0m\u001b[0;34m[\u001b[0m\u001b[0mx\u001b[0m\u001b[0;34m,\u001b[0m \u001b[0my\u001b[0m\u001b[0;34m]\u001b[0m \u001b[0;34m==\u001b[0m \u001b[0;34m\"\\033[1mX\\033[0m\"\u001b[0m \u001b[0;32mand\u001b[0m \u001b[0mlist_of_agents_shuffled\u001b[0m\u001b[0;34m[\u001b[0m\u001b[0magents_iteration\u001b[0m\u001b[0;34m]\u001b[0m\u001b[0;34m.\u001b[0m\u001b[0mget_ID\u001b[0m\u001b[0;34m(\u001b[0m\u001b[0;34m)\u001b[0m \u001b[0;34m==\u001b[0m \u001b[0magents_iteration\u001b[0m\u001b[0;34m)\u001b[0m\u001b[0;34m:\u001b[0m\u001b[0;34m\u001b[0m\u001b[0m\n\u001b[0m\u001b[1;32m     94\u001b[0m                         \u001b[0;31m#print(f\"agend ID: {list_of_agents_shuffled[agents_iteration].get_ID()} and iteration {agents_iteration}\")\u001b[0m\u001b[0;34m\u001b[0m\u001b[0;34m\u001b[0m\u001b[0m\n\u001b[1;32m     95\u001b[0m                         \u001b[0;31m#current_cell_sugar = self.environment[x, y]\u001b[0m\u001b[0;34m\u001b[0m\u001b[0;34m\u001b[0m\u001b[0m\n",
      "\u001b[0;31mKeyboardInterrupt\u001b[0m: "
     ]
    }
   ],
   "source": [
    "epochs = 0\n",
    "penalties, reward = 0, 0\n",
    "\n",
    "frames = [] # for animation\n",
    "\n",
    "ACTIONS = ['N', 'E', 'S', 'W']\n",
    "\n",
    "for i in range(5000000):\n",
    "    random_actions = random.randrange(1, 4)\n",
    "    #action = env.action_space.sample()\n",
    "    state, reward, done, info = env.step(ACTIONS[random_actions])\n",
    "\n",
    "    if reward == -1:\n",
    "        penalties += 1\n",
    "    \n",
    "    # Put each rendered frame into dict for animation\n",
    "    frames.append({\n",
    "        'frame': env.render(),\n",
    "        'state': state,\n",
    "        'action': ACTIONS[random_actions],\n",
    "        'reward': reward\n",
    "        }\n",
    "    )\n",
    "\n",
    "    epochs += 1\n",
    "    \n",
    "    \n",
    "print(\"Timesteps taken: {}\".format(epochs))\n",
    "print(\"Penalties incurred: {}\".format(penalties))"
   ]
  },
  {
   "cell_type": "code",
   "execution_count": 9,
   "metadata": {},
   "outputs": [
    {
     "name": "stdout",
     "output_type": "stream",
     "text": [
      "00000000000000000000000000000000000000000000000000\n",
      "00000000000000000000000000000000000000000000000000\n",
      "00000000000000000000000000000000000000000000000000\n",
      "00002000000000000010000000030000000000000000000000\n",
      "00000000000000000000000000000000000000000000000000\n",
      "00000000000000000000000000000000000000000000000000\n",
      "00000000000000000000000000000000000000000000000000\n",
      "00000000000000000000000000000000000000000000000000\n",
      "00000000000000000000000000000000000000000000000000\n",
      "00000000000000000000000000000001000000000000000000\n",
      "00000000000000000000000000000000000000000000000000\n",
      "00000000000000000000000000000000000000000000000000\n",
      "00003002000000000100033003000000000000000000000000\n",
      "00000010000000000000000000000000000000000000000000\n",
      "00000000000000000000000000000000000000000000000000\n",
      "00000300000000000000000000000000000000000000000000\n",
      "00000000000000000000000000000000000000000000000000\n",
      "00000300000000000000000000000000000000000000000000\n",
      "00000010000000000000000002000000000000000000000000\n",
      "00000000000000000000000000000000000000000000000000\n",
      "00000000000000000000000000000000000000000000000000\n",
      "00100010000000000000030000000000000000000200000000\n",
      "00000000000000000000000000000000000000020000000000\n",
      "00000000000000000000000000000000000000000000000000\n",
      "00000000000000000000000000000000000000000000000000\n",
      "00000000002000000000000000000000000000000000000000\n",
      "00000000000000000000000000000000000000000000000000\n",
      "00000000000000000000000000000000000000000000000000\n",
      "00000100000000000000000000000000000000000000000000\n",
      "00000000000000000000000000000000000000000000000000\n",
      "00000000000000000010000000000000000000000000000000\n",
      "00000000000000000000000000000000000000000000000000\n",
      "0000002000000000\u001b[1mX\u001b[0m000000000000000000000000000000000\n",
      "00000000000000000003000000000000000000000000000000\n",
      "00000020000000000000000000000000000000000000000000\n",
      "00000000000000000000000000000000000000000000000000\n",
      "00300000000000000000000320003000000000000000000000\n",
      "00000200000000000000000000000022000000000000000000\n",
      "00010030000000000000000000000000000000000000000000\n",
      "00000000000000000000000000000000000000000000000000\n",
      "00000000000000000000000000000000000000000000000000\n",
      "00000000000000000000000000000000000000000000000000\n",
      "00000000000000000010000000000000000000000000000000\n",
      "00001000000000000000000000000000000000000000000000\n",
      "00000000000000000000000000000000000000000000000000\n",
      "00000000000000000000000000000000000000000000000000\n",
      "00000000000000000030000000000000000000000000000000\n",
      "00000000000000000002000000010000000000000000000000\n",
      "00000000000000000000000000000000100000000000000010\n",
      "00000000000000000000000000000010002000000000000000\n",
      "('State: ', 3351)\n",
      "('Action: ', 'S')\n",
      "('Reward: ', 1)\n"
     ]
    },
    {
     "ename": "KeyboardInterrupt",
     "evalue": "",
     "output_type": "error",
     "traceback": [
      "\u001b[0;31m---------------------------------------------------------------------------\u001b[0m",
      "\u001b[0;31mKeyboardInterrupt\u001b[0m                         Traceback (most recent call last)",
      "\u001b[0;32m<ipython-input-9-0323682256b4>\u001b[0m in \u001b[0;36m<module>\u001b[0;34m()\u001b[0m\n\u001b[1;32m     11\u001b[0m         \u001b[0msleep\u001b[0m\u001b[0;34m(\u001b[0m\u001b[0;36m.1\u001b[0m\u001b[0;34m)\u001b[0m\u001b[0;34m\u001b[0m\u001b[0m\n\u001b[1;32m     12\u001b[0m \u001b[0;34m\u001b[0m\u001b[0m\n\u001b[0;32m---> 13\u001b[0;31m \u001b[0mprint_frames\u001b[0m\u001b[0;34m(\u001b[0m\u001b[0mframes\u001b[0m\u001b[0;34m)\u001b[0m\u001b[0;34m\u001b[0m\u001b[0m\n\u001b[0m",
      "\u001b[0;32m<ipython-input-9-0323682256b4>\u001b[0m in \u001b[0;36mprint_frames\u001b[0;34m(frames)\u001b[0m\n\u001b[1;32m      9\u001b[0m         \u001b[0;32mprint\u001b[0m\u001b[0;34m(\u001b[0m\u001b[0;34m\"Action: \"\u001b[0m\u001b[0;34m,\u001b[0m \u001b[0mframe\u001b[0m\u001b[0;34m[\u001b[0m\u001b[0;34m'action'\u001b[0m\u001b[0;34m]\u001b[0m\u001b[0;34m)\u001b[0m\u001b[0;34m\u001b[0m\u001b[0m\n\u001b[1;32m     10\u001b[0m         \u001b[0;32mprint\u001b[0m\u001b[0;34m(\u001b[0m\u001b[0;34m\"Reward: \"\u001b[0m\u001b[0;34m,\u001b[0m \u001b[0mframe\u001b[0m\u001b[0;34m[\u001b[0m\u001b[0;34m'reward'\u001b[0m\u001b[0;34m]\u001b[0m\u001b[0;34m)\u001b[0m\u001b[0;34m\u001b[0m\u001b[0m\n\u001b[0;32m---> 11\u001b[0;31m         \u001b[0msleep\u001b[0m\u001b[0;34m(\u001b[0m\u001b[0;36m.1\u001b[0m\u001b[0;34m)\u001b[0m\u001b[0;34m\u001b[0m\u001b[0m\n\u001b[0m\u001b[1;32m     12\u001b[0m \u001b[0;34m\u001b[0m\u001b[0m\n\u001b[1;32m     13\u001b[0m \u001b[0mprint_frames\u001b[0m\u001b[0;34m(\u001b[0m\u001b[0mframes\u001b[0m\u001b[0;34m)\u001b[0m\u001b[0;34m\u001b[0m\u001b[0m\n",
      "\u001b[0;31mKeyboardInterrupt\u001b[0m: "
     ]
    }
   ],
   "source": [
    "from IPython.display import clear_output\n",
    "from time import sleep\n",
    "\n",
    "def print_frames(frames):\n",
    "    for i, frame in enumerate(frames):\n",
    "        clear_output(wait=True)\n",
    "        print(frame['frame'])\n",
    "        print(\"State: \", frame['state'])\n",
    "        print(\"Action: \", frame['action'])\n",
    "        print(\"Reward: \", frame['reward'])\n",
    "        sleep(.1)\n",
    "        \n",
    "print_frames(frames)"
   ]
  },
  {
   "cell_type": "code",
   "execution_count": null,
   "metadata": {},
   "outputs": [],
   "source": []
  }
 ],
 "metadata": {
  "kernelspec": {
   "display_name": "Python 2",
   "language": "python",
   "name": "python2"
  },
  "language_info": {
   "codemirror_mode": {
    "name": "ipython",
    "version": 2
   },
   "file_extension": ".py",
   "mimetype": "text/x-python",
   "name": "python",
   "nbconvert_exporter": "python",
   "pygments_lexer": "ipython2",
   "version": "2.7.17"
  },
  "toc": {
   "base_numbering": 1,
   "nav_menu": {},
   "number_sections": true,
   "sideBar": true,
   "skip_h1_title": false,
   "title_cell": "Table of Contents",
   "title_sidebar": "Contents",
   "toc_cell": false,
   "toc_position": {},
   "toc_section_display": true,
   "toc_window_display": false
  }
 },
 "nbformat": 4,
 "nbformat_minor": 2
}
