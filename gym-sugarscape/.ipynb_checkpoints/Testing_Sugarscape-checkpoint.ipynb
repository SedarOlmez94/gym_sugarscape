{
 "cells": [
  {
   "cell_type": "code",
   "execution_count": 1,
   "metadata": {},
   "outputs": [],
   "source": [
    "import gym"
   ]
  },
  {
   "cell_type": "code",
   "execution_count": 2,
   "metadata": {},
   "outputs": [],
   "source": [
    "import gym_sugarscape\n",
    "import random"
   ]
  },
  {
   "cell_type": "code",
   "execution_count": 3,
   "metadata": {},
   "outputs": [],
   "source": [
    "env = gym.make('sugarscape-v0')"
   ]
  },
  {
   "cell_type": "code",
   "execution_count": 4,
   "metadata": {},
   "outputs": [],
   "source": [
    "env.reset(10, 50)"
   ]
  },
  {
   "cell_type": "code",
   "execution_count": 5,
   "metadata": {},
   "outputs": [
    {
     "name": "stdout",
     "output_type": "stream",
     "text": [
      "11123022102130331303202031133321121320303001102020\n",
      "03013100212222032331220201021111332120030120021331\n",
      "11221003310113123323001020330132202032133120333111\n",
      "13111223331103131221020322223031223131310302102210\n",
      "13222121012312211020323122033121131221333333123023\n",
      "12203022110133021113311322131103310030220132300120\n",
      "03232203320033331131221010023103111002321212311101\n",
      "02110113300213231132131311310012310102312123113203\n",
      "10331312132330301232111323103330200201321333200013\n",
      "11003202302102002221112213022001200110230213003123\n",
      "13022210001031112033210200121011302131101312110230\n",
      "11100230213230132233012331320310323212\u001b[1mX\u001b[0m03231223100\n",
      "23320320130002211230323320122012130210313300330111\n",
      "03221233310100130332232303321220332330323223221223\n",
      "02122123231221030023131312231002133302111013101233\n",
      "00132000001103211120001132322110313330033203113030\n",
      "22113330122011322331130033213210021322000122100023\n",
      "33110320203330321132203311122112232312003220312022\n",
      "22103210312213302233012121310303112013330221233003\n",
      "30303103312130000331311003022313122303232110103032\n",
      "02020210001211313333132032220032113111\u001b[1mX\u001b[0m30103101011\n",
      "330120130101102213013211022310211222100132012\u001b[1mX\u001b[0m1230\n",
      "2220\u001b[1mX\u001b[0m003112033023302203201113203111203201221332222\n",
      "01221330102222133220001320213130001323030322232231\n",
      "11031022031223201313200202232131312313002032330313\n",
      "10230033222333211311330302131120133031220113122313\n",
      "1210123333011\u001b[1mX\u001b[0m323012113011232220131130311321021112\n",
      "23102211221101223111233032233212032113131312222331\n",
      "2310220323\u001b[1mX\u001b[0m312310103211001300003130120102311120213\n",
      "33130200122021230012022113333120101203230223202010\n",
      "32031020011002200000012302323212113213002301232003\n",
      "22112110311012213203023221331222201220112300033212\n",
      "21330323112202121311202110100220203311200130021233\n",
      "30303012233321220233322013112201023022013103213310\n",
      "00131300012330002311130311303221010233202212312220\n",
      "23120202232222030111131002230222312300212123011320\n",
      "23132111322233302313223301110011132213100122302231\n",
      "20203330032220123331231213112212012131222112003213\n",
      "01010101210310203031231203221010300302223012001220\n",
      "02231030030120023321321230003\u001b[1mX\u001b[0m11101303211020231010\n",
      "32323301221301000012121212313121230201112221332102\n",
      "11\u001b[1mX\u001b[0m30223132203323012123130113201111131031013001012\n",
      "332220121320231331\u001b[1mX\u001b[0m2320211222011301120110323201200\n",
      "23232302030230332030131103003203210122222023012322\n",
      "10100321333101011000030123231022013222333133112032\n",
      "32202202031223020212120223030120321030230130311330\n",
      "21111033010303333110031321223221122333211233010302\n",
      "33221001220211120103102002313300032211302302322210\n",
      "12202232101211102232033122021012211201210331113020\n",
      "111212123211032122311321020333\u001b[1mX\u001b[0m2000020301112200212\n"
     ]
    }
   ],
   "source": [
    "print(env.render())"
   ]
  },
  {
   "cell_type": "code",
   "execution_count": 6,
   "metadata": {},
   "outputs": [
    {
     "name": "stdout",
     "output_type": "stream",
     "text": [
      "Action Space Discrete(5)\n",
      "State Space Discrete(2500)\n"
     ]
    }
   ],
   "source": [
    "print(\"Action Space {}\".format(env.action_space))\n",
    "print(\"State Space {}\".format(env.observation_space))"
   ]
  },
  {
   "cell_type": "code",
   "execution_count": 7,
   "metadata": {},
   "outputs": [
    {
     "name": "stdout",
     "output_type": "stream",
     "text": [
      "Timesteps taken: 600\n",
      "Penalties incurred: 554\n"
     ]
    }
   ],
   "source": [
    "epochs = 0\n",
    "penalties, reward = 0, 0\n",
    "\n",
    "frames = [] # for animation\n",
    "\n",
    "ACTIONS = ['N', 'E', 'S', 'W']\n",
    "\n",
    "#done = False\n",
    "\n",
    "for i in range(600):\n",
    "#while done != True:\n",
    "    random_actions = random.randrange(4)\n",
    "    #action = env.action_space.sample()\n",
    "    state, reward, done, info = env.step(ACTIONS[random_actions])\n",
    "    \n",
    "    if reward == -1:\n",
    "        penalties += 1\n",
    "    \n",
    "    # Put each rendered frame into dict for animation\n",
    "    frames.append({\n",
    "        'frame': env.render(),\n",
    "        'state': state,\n",
    "        'action': ACTIONS[random_actions],\n",
    "        'reward': reward\n",
    "        }\n",
    "    )\n",
    "\n",
    "    epochs += 1\n",
    "    \n",
    "    \n",
    "print(\"Timesteps taken: {}\".format(epochs))\n",
    "print(\"Penalties incurred: {}\".format(penalties))"
   ]
  },
  {
   "cell_type": "code",
   "execution_count": 8,
   "metadata": {},
   "outputs": [
    {
     "name": "stdout",
     "output_type": "stream",
     "text": [
      "11212222221111211311111132121212112\u001b[1mX\u001b[0m11213212111111\n",
      "22212112212222232321221122122212222122211122111222\n",
      "22222112111122112322112222122122122212123122221122\n",
      "22122122112122111221111311121211121111211211112211\n",
      "12211221112122111222121112113221221221111111111111\n",
      "11212121121111121111111112111122111111221111111121\n",
      "22221121121122112122222122112121111111111111111221\n",
      "22111121111212131121121111222111121212211121212113\n",
      "11111121212111311211121111213221211212112111211111\n",
      "11111212122111112122112211112122111111231212111123\n",
      "12122221111131112112212111212111111131212112211222\n",
      "11121121113231132221112321321121221212111111211111\n",
      "21111322112112222221322312222212222112112111111111\n",
      "11121111111111111121132112221121122111111123111122\n",
      "11122122121222231123131212122112212111111111211111\n",
      "11111112121111211122111122111211121121112112221212\n",
      "22222212211112122211221123213211122222121121111211\n",
      "12112221221211221111211212121211121112112111121221\n",
      "11111221112211112111212112211122212222111122222111\n",
      "11111122312131211111121113111113122122112211112211\n",
      "12221222122221121132222211121112121111211111111111\n",
      "11121122221211221111222112121222111211113112111121\n",
      "11122112222111122112123212222212121112211111112111\n",
      "11111122112221211121111111121211121321111122221121\n",
      "11111222121222211112211212232111321121112111111111\n",
      "22212211221112211312211212121211113111121121122112\n",
      "11121112111121111112111111111111111111111111121111\n",
      "12211111211111111211211211111211111112111112111121\n",
      "11112112122211221111211122122111132211121111111112\n",
      "11121211122121121121121122121112111222111111211122\n",
      "12212221112221212111211212111211112112212121211122\n",
      "11112112112122221122112121122122112121222121211222\n",
      "22121122122222212122212122112121122322222122121122\n",
      "12212222112222111213122122211111111222111221221211\n",
      "11111121112311112111121112211221112211112111111211\n",
      "21211221121212111111231121111111211111211112212112\n",
      "12112121221122222212212212211212122222222111112111\n",
      "12111121112212112111111211122111112221121111121111\n",
      "11111121121212222111221111211111111212221121111121\n",
      "11111121221122211222222222212212211122222112111121\n",
      "12111111111211112121122222222112122112112212211111\n",
      "11111121211121112111121131212111121122211111211111\n",
      "11111121122111112211221222222111122111211112111222\n",
      "22112112211232211112211212112212112112211221111221\n",
      "11121222222122222121222122222112211121123111111111\n",
      "11211212231122121211111122222112211111221121221221\n",
      "11111113111111323111111111222122112133211211121111\n",
      "11212111111111112212211112123222222122312211111211\n",
      "21212232111211212211121211112112111211211232112211\n",
      "21122212121111222111131111121322111122311111111112\n",
      "('State: ', 1750)\n",
      "('Action: ', 'N')\n",
      "('Reward: ', -1)\n"
     ]
    }
   ],
   "source": [
    "from IPython.display import clear_output\n",
    "from time import sleep\n",
    "\n",
    "def print_frames(frames):\n",
    "    for i, frame in enumerate(frames):\n",
    "        clear_output(wait=True)\n",
    "        print(frame['frame'])\n",
    "        print(\"State: \", frame['state'])\n",
    "        print(\"Action: \", frame['action'])\n",
    "        print(\"Reward: \", frame['reward'])\n",
    "        sleep(.1)\n",
    "        \n",
    "print_frames(frames)"
   ]
  },
  {
   "cell_type": "markdown",
   "metadata": {},
   "source": [
    "# Q-learning"
   ]
  },
  {
   "cell_type": "code",
   "execution_count": 5,
   "metadata": {},
   "outputs": [],
   "source": [
    "import numpy as np\n",
    "import gym\n",
    "import gym_sugarscape\n",
    "import random\n",
    "from IPython.display import clear_output"
   ]
  },
  {
   "cell_type": "code",
   "execution_count": 6,
   "metadata": {},
   "outputs": [],
   "source": [
    "env = gym.make('sugarscape-v0')\n",
    "q_table = np.zeros([env.observation_space.n, env.action_space.n])"
   ]
  },
  {
   "cell_type": "code",
   "execution_count": 7,
   "metadata": {},
   "outputs": [
    {
     "ename": "KeyError",
     "evalue": "0",
     "output_type": "error",
     "traceback": [
      "\u001b[0;31m---------------------------------------------------------------------------\u001b[0m",
      "\u001b[0;31mKeyError\u001b[0m                                  Traceback (most recent call last)",
      "\u001b[0;32m<ipython-input-7-3ffcf8210f1c>\u001b[0m in \u001b[0;36m<module>\u001b[0;34m()\u001b[0m\n\u001b[0;32m----> 1\u001b[0;31m \u001b[0mget_ipython\u001b[0m\u001b[0;34m(\u001b[0m\u001b[0;34m)\u001b[0m\u001b[0;34m.\u001b[0m\u001b[0mrun_cell_magic\u001b[0m\u001b[0;34m(\u001b[0m\u001b[0;34mu'time'\u001b[0m\u001b[0;34m,\u001b[0m \u001b[0;34mu''\u001b[0m\u001b[0;34m,\u001b[0m \u001b[0;34mu'\\n\"\"\"Training the agent\"\"\"\\nACTIONS = [\\'N\\', \\'E\\', \\'S\\', \\'W\\']\\n\\n\\n# Hyperparameters\\nalpha = 0.1\\ngamma = 0.6\\nepsilon = 0.1\\n\\n# For plotting metrics\\nall_epochs = []\\nall_penalties = []\\n\\n\\n#for i in range(1, 100):\\n    \\n\\n\\nfor j in range(100):\\n    state = env.get_state()\\n    epochs, penalties, reward, = 0, 0, 0\\n    done = False\\n    \\n    if random.uniform(0, 1) < epsilon:\\n        action = random.randrange(4)\\n    else:\\n         action = np.argmax(q_table[state])\\n    \\n    \\n    next_state, reward, done, info = env.step(ACTIONS[action])\\n    old_value = q_table[state, action]\\n    next_max = np.max(q_table[next_state])\\n\\n    new_value = (1 - alpha) * old_value + alpha * (reward + gamma * next_max)\\n    q_table[state, action] = new_value\\n\\n    if reward == -1:\\n        penalties += 1\\n\\n    state = next_state\\n    epochs += 1'\u001b[0m\u001b[0;34m)\u001b[0m\u001b[0;34m\u001b[0m\u001b[0m\n\u001b[0m",
      "\u001b[0;32m/miniconda2/lib/python2.7/site-packages/IPython/core/interactiveshell.pyc\u001b[0m in \u001b[0;36mrun_cell_magic\u001b[0;34m(self, magic_name, line, cell)\u001b[0m\n\u001b[1;32m   2115\u001b[0m             \u001b[0mmagic_arg_s\u001b[0m \u001b[0;34m=\u001b[0m \u001b[0mself\u001b[0m\u001b[0;34m.\u001b[0m\u001b[0mvar_expand\u001b[0m\u001b[0;34m(\u001b[0m\u001b[0mline\u001b[0m\u001b[0;34m,\u001b[0m \u001b[0mstack_depth\u001b[0m\u001b[0;34m)\u001b[0m\u001b[0;34m\u001b[0m\u001b[0m\n\u001b[1;32m   2116\u001b[0m             \u001b[0;32mwith\u001b[0m \u001b[0mself\u001b[0m\u001b[0;34m.\u001b[0m\u001b[0mbuiltin_trap\u001b[0m\u001b[0;34m:\u001b[0m\u001b[0;34m\u001b[0m\u001b[0m\n\u001b[0;32m-> 2117\u001b[0;31m                 \u001b[0mresult\u001b[0m \u001b[0;34m=\u001b[0m \u001b[0mfn\u001b[0m\u001b[0;34m(\u001b[0m\u001b[0mmagic_arg_s\u001b[0m\u001b[0;34m,\u001b[0m \u001b[0mcell\u001b[0m\u001b[0;34m)\u001b[0m\u001b[0;34m\u001b[0m\u001b[0m\n\u001b[0m\u001b[1;32m   2118\u001b[0m             \u001b[0;32mreturn\u001b[0m \u001b[0mresult\u001b[0m\u001b[0;34m\u001b[0m\u001b[0m\n\u001b[1;32m   2119\u001b[0m \u001b[0;34m\u001b[0m\u001b[0m\n",
      "\u001b[0;32m</miniconda2/lib/python2.7/site-packages/decorator.pyc:decorator-gen-60>\u001b[0m in \u001b[0;36mtime\u001b[0;34m(self, line, cell, local_ns)\u001b[0m\n",
      "\u001b[0;32m/miniconda2/lib/python2.7/site-packages/IPython/core/magic.pyc\u001b[0m in \u001b[0;36m<lambda>\u001b[0;34m(f, *a, **k)\u001b[0m\n\u001b[1;32m    186\u001b[0m     \u001b[0;31m# but it's overkill for just that one bit of state.\u001b[0m\u001b[0;34m\u001b[0m\u001b[0;34m\u001b[0m\u001b[0m\n\u001b[1;32m    187\u001b[0m     \u001b[0;32mdef\u001b[0m \u001b[0mmagic_deco\u001b[0m\u001b[0;34m(\u001b[0m\u001b[0marg\u001b[0m\u001b[0;34m)\u001b[0m\u001b[0;34m:\u001b[0m\u001b[0;34m\u001b[0m\u001b[0m\n\u001b[0;32m--> 188\u001b[0;31m         \u001b[0mcall\u001b[0m \u001b[0;34m=\u001b[0m \u001b[0;32mlambda\u001b[0m \u001b[0mf\u001b[0m\u001b[0;34m,\u001b[0m \u001b[0;34m*\u001b[0m\u001b[0ma\u001b[0m\u001b[0;34m,\u001b[0m \u001b[0;34m**\u001b[0m\u001b[0mk\u001b[0m\u001b[0;34m:\u001b[0m \u001b[0mf\u001b[0m\u001b[0;34m(\u001b[0m\u001b[0;34m*\u001b[0m\u001b[0ma\u001b[0m\u001b[0;34m,\u001b[0m \u001b[0;34m**\u001b[0m\u001b[0mk\u001b[0m\u001b[0;34m)\u001b[0m\u001b[0;34m\u001b[0m\u001b[0m\n\u001b[0m\u001b[1;32m    189\u001b[0m \u001b[0;34m\u001b[0m\u001b[0m\n\u001b[1;32m    190\u001b[0m         \u001b[0;32mif\u001b[0m \u001b[0mcallable\u001b[0m\u001b[0;34m(\u001b[0m\u001b[0marg\u001b[0m\u001b[0;34m)\u001b[0m\u001b[0;34m:\u001b[0m\u001b[0;34m\u001b[0m\u001b[0m\n",
      "\u001b[0;32m/miniconda2/lib/python2.7/site-packages/IPython/core/magics/execution.pyc\u001b[0m in \u001b[0;36mtime\u001b[0;34m(self, line, cell, local_ns)\u001b[0m\n\u001b[1;32m   1191\u001b[0m         \u001b[0;32melse\u001b[0m\u001b[0;34m:\u001b[0m\u001b[0;34m\u001b[0m\u001b[0m\n\u001b[1;32m   1192\u001b[0m             \u001b[0mst\u001b[0m \u001b[0;34m=\u001b[0m \u001b[0mclock2\u001b[0m\u001b[0;34m(\u001b[0m\u001b[0;34m)\u001b[0m\u001b[0;34m\u001b[0m\u001b[0m\n\u001b[0;32m-> 1193\u001b[0;31m             \u001b[0;32mexec\u001b[0m\u001b[0;34m(\u001b[0m\u001b[0mcode\u001b[0m\u001b[0;34m,\u001b[0m \u001b[0mglob\u001b[0m\u001b[0;34m,\u001b[0m \u001b[0mlocal_ns\u001b[0m\u001b[0;34m)\u001b[0m\u001b[0;34m\u001b[0m\u001b[0m\n\u001b[0m\u001b[1;32m   1194\u001b[0m             \u001b[0mend\u001b[0m \u001b[0;34m=\u001b[0m \u001b[0mclock2\u001b[0m\u001b[0;34m(\u001b[0m\u001b[0;34m)\u001b[0m\u001b[0;34m\u001b[0m\u001b[0m\n\u001b[1;32m   1195\u001b[0m             \u001b[0mout\u001b[0m \u001b[0;34m=\u001b[0m \u001b[0mNone\u001b[0m\u001b[0;34m\u001b[0m\u001b[0m\n",
      "\u001b[0;32m<timed exec>\u001b[0m in \u001b[0;36m<module>\u001b[0;34m()\u001b[0m\n",
      "\u001b[0;32m/Users/solmez/Documents/gym_sugarscape/gym-sugarscape/gym_sugarscape/envs/sugarscape_env.pyc\u001b[0m in \u001b[0;36mstep\u001b[0;34m(self, action)\u001b[0m\n\u001b[1;32m     77\u001b[0m         \u001b[0;31m#self._agent_s_wealth() # Return agents sugar wealth and information\u001b[0m\u001b[0;34m\u001b[0m\u001b[0;34m\u001b[0m\u001b[0m\n\u001b[1;32m     78\u001b[0m         \u001b[0mself\u001b[0m\u001b[0;34m.\u001b[0m\u001b[0m_regeneration\u001b[0m\u001b[0;34m(\u001b[0m\u001b[0;34m)\u001b[0m\u001b[0;34m\u001b[0m\u001b[0m\n\u001b[0;32m---> 79\u001b[0;31m         \u001b[0mself\u001b[0m\u001b[0;34m.\u001b[0m\u001b[0m_agents_die\u001b[0m\u001b[0;34m(\u001b[0m\u001b[0;34m)\u001b[0m \u001b[0;31m# Have any agents died? If so replace the dead ones with new ones.\u001b[0m\u001b[0;34m\u001b[0m\u001b[0m\n\u001b[0m\u001b[1;32m     80\u001b[0m         \u001b[0mself\u001b[0m\u001b[0;34m.\u001b[0m\u001b[0mstatus\u001b[0m \u001b[0;34m=\u001b[0m \u001b[0mself\u001b[0m\u001b[0;34m.\u001b[0m\u001b[0m_get_status\u001b[0m\u001b[0;34m(\u001b[0m\u001b[0;34m)\u001b[0m \u001b[0;31m# Are all agents still alive or have they all died?\u001b[0m\u001b[0;34m\u001b[0m\u001b[0m\n\u001b[1;32m     81\u001b[0m         \u001b[0mepisode_over\u001b[0m \u001b[0;34m=\u001b[0m \u001b[0mself\u001b[0m\u001b[0;34m.\u001b[0m\u001b[0mstatus\u001b[0m \u001b[0;34m==\u001b[0m \u001b[0;34m'ALL AGENTS DEAD'\u001b[0m \u001b[0;31m# Have all the agents died?\u001b[0m\u001b[0;34m\u001b[0m\u001b[0m\n",
      "\u001b[0;32m/Users/solmez/Documents/gym_sugarscape/gym-sugarscape/gym_sugarscape/envs/sugarscape_env.pyc\u001b[0m in \u001b[0;36m_agents_die\u001b[0;34m(self)\u001b[0m\n\u001b[1;32m    473\u001b[0m         \u001b[0;31m# Remove the agents from the dictionary\u001b[0m\u001b[0;34m\u001b[0m\u001b[0;34m\u001b[0m\u001b[0m\n\u001b[1;32m    474\u001b[0m         \u001b[0;32mfor\u001b[0m \u001b[0mi\u001b[0m \u001b[0;32min\u001b[0m \u001b[0mrange\u001b[0m\u001b[0;34m(\u001b[0m\u001b[0mnumber_of_agents_in_list\u001b[0m\u001b[0;34m)\u001b[0m\u001b[0;34m:\u001b[0m\u001b[0;34m\u001b[0m\u001b[0m\n\u001b[0;32m--> 475\u001b[0;31m             \u001b[0;32mif\u001b[0m \u001b[0;34m(\u001b[0m\u001b[0mlist_of_agents_shuffled\u001b[0m\u001b[0;34m[\u001b[0m\u001b[0mi\u001b[0m\u001b[0;34m]\u001b[0m\u001b[0;34m.\u001b[0m\u001b[0mget_age\u001b[0m\u001b[0;34m(\u001b[0m\u001b[0;34m)\u001b[0m \u001b[0;34m==\u001b[0m \u001b[0mself\u001b[0m\u001b[0;34m.\u001b[0m\u001b[0mcurrent_step\u001b[0m\u001b[0;34m)\u001b[0m\u001b[0;34m:\u001b[0m\u001b[0;34m\u001b[0m\u001b[0m\n\u001b[0m\u001b[1;32m    476\u001b[0m                 \u001b[0;34m\"\"\"Remove the agent from the list of agents\"\"\"\u001b[0m\u001b[0;34m\u001b[0m\u001b[0m\n\u001b[1;32m    477\u001b[0m                 \u001b[0magent_to_die\u001b[0m \u001b[0;34m=\u001b[0m \u001b[0mlist_of_agents_shuffled\u001b[0m\u001b[0;34m[\u001b[0m\u001b[0mi\u001b[0m\u001b[0;34m]\u001b[0m\u001b[0;34m.\u001b[0m\u001b[0mget_ID\u001b[0m\u001b[0;34m(\u001b[0m\u001b[0;34m)\u001b[0m\u001b[0;34m\u001b[0m\u001b[0m\n",
      "\u001b[0;31mKeyError\u001b[0m: 0"
     ]
    }
   ],
   "source": [
    "%%time\n",
    "\n",
    "\"\"\"Training the agent\"\"\"\n",
    "ACTIONS = ['N', 'E', 'S', 'W']\n",
    "\n",
    "\n",
    "# Hyperparameters\n",
    "alpha = 0.1\n",
    "gamma = 0.6\n",
    "epsilon = 0.1\n",
    "\n",
    "# For plotting metrics\n",
    "all_epochs = []\n",
    "all_penalties = []\n",
    "\n",
    "\n",
    "#for i in range(1, 100):\n",
    "    \n",
    "\n",
    "\n",
    "for j in range(100):\n",
    "    state = env.get_state()\n",
    "    epochs, penalties, reward, = 0, 0, 0\n",
    "    done = False\n",
    "    \n",
    "    if random.uniform(0, 1) < epsilon:\n",
    "        action = random.randrange(4)\n",
    "    else:\n",
    "         action = np.argmax(q_table[state])\n",
    "    \n",
    "    \n",
    "    next_state, reward, done, info = env.step(ACTIONS[action])\n",
    "    old_value = q_table[state, action]\n",
    "    next_max = np.max(q_table[next_state])\n",
    "\n",
    "    new_value = (1 - alpha) * old_value + alpha * (reward + gamma * next_max)\n",
    "    q_table[state, action] = new_value\n",
    "\n",
    "    if reward == -1:\n",
    "        penalties += 1\n",
    "\n",
    "    state = next_state\n",
    "    epochs += 1"
   ]
  },
  {
   "cell_type": "code",
   "execution_count": null,
   "metadata": {},
   "outputs": [],
   "source": []
  }
 ],
 "metadata": {
  "kernelspec": {
   "display_name": "Python 2",
   "language": "python",
   "name": "python2"
  },
  "language_info": {
   "codemirror_mode": {
    "name": "ipython",
    "version": 2
   },
   "file_extension": ".py",
   "mimetype": "text/x-python",
   "name": "python",
   "nbconvert_exporter": "python",
   "pygments_lexer": "ipython2",
   "version": "2.7.17"
  },
  "toc": {
   "base_numbering": 1,
   "nav_menu": {},
   "number_sections": true,
   "sideBar": true,
   "skip_h1_title": false,
   "title_cell": "Table of Contents",
   "title_sidebar": "Contents",
   "toc_cell": false,
   "toc_position": {},
   "toc_section_display": true,
   "toc_window_display": false
  }
 },
 "nbformat": 4,
 "nbformat_minor": 2
}
